{
 "cells": [
  {
   "cell_type": "code",
   "execution_count": 1,
   "metadata": {
    "collapsed": true
   },
   "outputs": [],
   "source": [
    "import csv as csv \n",
    "import numpy as np"
   ]
  },
  {
   "cell_type": "code",
   "execution_count": 2,
   "metadata": {
    "collapsed": true
   },
   "outputs": [],
   "source": [
    "# Open up the csv file in to a Python object\n",
    "csv_file_object = csv.reader(open('data/train.csv', 'rb')) \n",
    "header = csv_file_object.next()\n",
    "                                 \n",
    "data=[]                          \n",
    "for row in csv_file_object:     \n",
    "    data.append(row)            \n",
    "data = np.array(data)        "
   ]
  },
  {
   "cell_type": "code",
   "execution_count": 3,
   "metadata": {
    "collapsed": false
   },
   "outputs": [
    {
     "name": "stdout",
     "output_type": "stream",
     "text": [
      "[['1' '0' '3' ..., '7.25' '' 'S']\n",
      " ['2' '1' '1' ..., '71.2833' 'C85' 'C']\n",
      " ['3' '1' '3' ..., '7.925' '' 'S']\n",
      " ..., \n",
      " ['889' '0' '3' ..., '23.45' '' 'S']\n",
      " ['890' '1' '1' ..., '30' 'C148' 'C']\n",
      " ['891' '0' '3' ..., '7.75' '' 'Q']]\n"
     ]
    }
   ],
   "source": [
    "print data"
   ]
  },
  {
   "cell_type": "code",
   "execution_count": 4,
   "metadata": {
    "collapsed": false
   },
   "outputs": [
    {
     "name": "stdout",
     "output_type": "stream",
     "text": [
      "0.383838383838\n"
     ]
    }
   ],
   "source": [
    "# calculate portion of survivors\n",
    "number_passengers = np.size(data[0::,1].astype(np.float))\n",
    "number_survived = np.sum(data[0::,1].astype(np.float))\n",
    "proportion_survivors = number_survived / number_passengers\n",
    "print(proportion_survivors)"
   ]
  },
  {
   "cell_type": "code",
   "execution_count": 5,
   "metadata": {
    "collapsed": true
   },
   "outputs": [],
   "source": [
    "# gender specific stats\n",
    "female_only_stats = data[:,4] == 'female'\n",
    "male_only_stats = data[:,4] == 'male'"
   ]
  },
  {
   "cell_type": "code",
   "execution_count": 9,
   "metadata": {
    "collapsed": false
   },
   "outputs": [
    {
     "name": "stdout",
     "output_type": "stream",
     "text": [
      "Proportion of women who survived is 0.742038216561\n",
      "Proportion of men who survived is 0.188908145581\n"
     ]
    }
   ],
   "source": [
    "# want to find proportion of female and male survivors\n",
    "females_onboard = data[female_only_stats,1].astype(np.float)\n",
    "males_onboard = data[male_only_stats,1].astype(np.float)\n",
    "\n",
    "proportion_female_survived = np.sum(females_onboard) / np.size(females_onboard)\n",
    "proportion_male_survived = np.sum(males_onboard) / np.size(males_onboard)\n",
    "\n",
    "print('Proportion of women who survived is %s' % proportion_female_survived)\n",
    "print('Proportion of men who survived is %s' % proportion_male_survived)"
   ]
  },
  {
   "cell_type": "markdown",
   "metadata": {},
   "source": [
    "<h4>Can immediately see that females had a better chance of survival than males, this will inform future prediction attempts</h4>"
   ]
  },
  {
   "cell_type": "markdown",
   "metadata": {},
   "source": [
    "<h2> Reading in the test data and writing the gender model as a csv for submission </h2>"
   ]
  },
  {
   "cell_type": "code",
   "execution_count": 10,
   "metadata": {
    "collapsed": true
   },
   "outputs": [],
   "source": [
    "test_file = open('data/test.csv','rb')\n",
    "test_file_obj = csv.reader(test_file)\n",
    "header = test_file_obj.next()"
   ]
  },
  {
   "cell_type": "code",
   "execution_count": 11,
   "metadata": {
    "collapsed": true
   },
   "outputs": [],
   "source": [
    "prediction_file = open('models/genderModel.csv','wb')\n",
    "prediction_file_obj = csv.writer(prediction_file)"
   ]
  },
  {
   "cell_type": "code",
   "execution_count": 12,
   "metadata": {
    "collapsed": true
   },
   "outputs": [],
   "source": [
    "# read in the test file row by row, see if it is male or female and write survival prediction to a new file\n",
    "prediction_file_obj.writerow([\"PassengerId\",\"Survived\"])\n",
    "for row in test_file_obj:\n",
    "    if row[3] == 'female':\n",
    "        prediction_file_obj.writerow([row[0],'1']) # predict survived\n",
    "    else:\n",
    "        prediction_file_obj.writerow([row[0],'0']) # predict did not survive\n",
    "\n",
    "# close the files\n",
    "test_file.close()\n",
    "prediction_file.close()"
   ]
  },
  {
   "cell_type": "code",
   "execution_count": null,
   "metadata": {
    "collapsed": true
   },
   "outputs": [],
   "source": []
  }
 ],
 "metadata": {
  "kernelspec": {
   "display_name": "Python 2",
   "language": "python",
   "name": "python2"
  },
  "language_info": {
   "codemirror_mode": {
    "name": "ipython",
    "version": 2
   },
   "file_extension": ".py",
   "mimetype": "text/x-python",
   "name": "python",
   "nbconvert_exporter": "python",
   "pygments_lexer": "ipython2",
   "version": "2.7.11"
  }
 },
 "nbformat": 4,
 "nbformat_minor": 0
}
